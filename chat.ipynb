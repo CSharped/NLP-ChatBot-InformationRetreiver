{
 "cells": [
  {
   "cell_type": "code",
   "execution_count": 1,
   "id": "67d81a1a",
   "metadata": {},
   "outputs": [],
   "source": [
    "import pandas as pd\n"
   ]
  },
  {
   "cell_type": "code",
   "execution_count": 2,
   "id": "6e308f21",
   "metadata": {},
   "outputs": [
    {
     "data": {
      "text/html": [
       "<div>\n",
       "<style scoped>\n",
       "    .dataframe tbody tr th:only-of-type {\n",
       "        vertical-align: middle;\n",
       "    }\n",
       "\n",
       "    .dataframe tbody tr th {\n",
       "        vertical-align: top;\n",
       "    }\n",
       "\n",
       "    .dataframe thead th {\n",
       "        text-align: right;\n",
       "    }\n",
       "</style>\n",
       "<table border=\"1\" class=\"dataframe\">\n",
       "  <thead>\n",
       "    <tr style=\"text-align: right;\">\n",
       "      <th></th>\n",
       "      <th>response</th>\n",
       "      <th>context</th>\n",
       "    </tr>\n",
       "  </thead>\n",
       "  <tbody>\n",
       "    <tr>\n",
       "      <th>0</th>\n",
       "      <td>Symptoms include fever, coughing, sore throat,...</td>\n",
       "      <td>What are the symptoms?</td>\n",
       "    </tr>\n",
       "    <tr>\n",
       "      <th>1</th>\n",
       "      <td>Your doctor will tell you if you need to get t...</td>\n",
       "      <td>When should I get tested?</td>\n",
       "    </tr>\n",
       "    <tr>\n",
       "      <th>2</th>\n",
       "      <td>As cases of coronavirus surge, health authorit...</td>\n",
       "      <td>What's the difference between physical distanc...</td>\n",
       "    </tr>\n",
       "    <tr>\n",
       "      <th>3</th>\n",
       "      <td>If you have been in contact with a person with...</td>\n",
       "      <td>How do I practice physical distancing?</td>\n",
       "    </tr>\n",
       "    <tr>\n",
       "      <th>4</th>\n",
       "      <td>Physical distancing is the reason the Federal ...</td>\n",
       "      <td>What's closed?</td>\n",
       "    </tr>\n",
       "  </tbody>\n",
       "</table>\n",
       "</div>"
      ],
      "text/plain": [
       "                                            response  \\\n",
       "0  Symptoms include fever, coughing, sore throat,...   \n",
       "1  Your doctor will tell you if you need to get t...   \n",
       "2  As cases of coronavirus surge, health authorit...   \n",
       "3  If you have been in contact with a person with...   \n",
       "4  Physical distancing is the reason the Federal ...   \n",
       "\n",
       "                                             context  \n",
       "0                             What are the symptoms?  \n",
       "1                          When should I get tested?  \n",
       "2  What's the difference between physical distanc...  \n",
       "3             How do I practice physical distancing?  \n",
       "4                                     What's closed?  "
      ]
     },
     "execution_count": 2,
     "metadata": {},
     "output_type": "execute_result"
    }
   ],
   "source": [
    "chats_df = pd.read_csv('news_CSV.csv', encoding='latin1')\n",
    "\n",
    "chats_df.head()"
   ]
  },
  {
   "cell_type": "code",
   "execution_count": 23,
   "id": "30ea3a8a",
   "metadata": {},
   "outputs": [
    {
     "data": {
      "text/plain": [
       "(11181, 2)"
      ]
     },
     "execution_count": 23,
     "metadata": {},
     "output_type": "execute_result"
    }
   ],
   "source": [
    "chats_df.shape"
   ]
  },
  {
   "cell_type": "code",
   "execution_count": 3,
   "id": "7cfd5fcb",
   "metadata": {},
   "outputs": [],
   "source": [
    "questions = chats_df['context'].tolist()"
   ]
  },
  {
   "cell_type": "code",
   "execution_count": 4,
   "id": "10fad559",
   "metadata": {},
   "outputs": [
    {
     "name": "stderr",
     "output_type": "stream",
     "text": [
      "c:\\Users\\pradeeps2\\AppData\\Local\\Programs\\Python\\Python311\\Lib\\site-packages\\tqdm\\auto.py:21: TqdmWarning: IProgress not found. Please update jupyter and ipywidgets. See https://ipywidgets.readthedocs.io/en/stable/user_install.html\n",
      "  from .autonotebook import tqdm as notebook_tqdm\n"
     ]
    },
    {
     "name": "stdout",
     "output_type": "stream",
     "text": [
      "WARNING:tensorflow:From c:\\Users\\pradeeps2\\AppData\\Local\\Programs\\Python\\Python311\\Lib\\site-packages\\tf_keras\\src\\losses.py:2976: The name tf.losses.sparse_softmax_cross_entropy is deprecated. Please use tf.compat.v1.losses.sparse_softmax_cross_entropy instead.\n",
      "\n"
     ]
    }
   ],
   "source": [
    "# create embeddings for the questions\n",
    "from sentence_transformers import SentenceTransformer\n",
    "model = SentenceTransformer('all-MiniLM-L6-v2')\n",
    "question_embeddings = model.encode(questions)\n",
    "\n",
    "# save the embeddings to a file\n",
    "import numpy as np\n",
    "np.save('question_embeddings.npy', question_embeddings)\n"
   ]
  },
  {
   "cell_type": "code",
   "execution_count": 8,
   "id": "2670a438",
   "metadata": {},
   "outputs": [],
   "source": [
    "# find the most similar question to a given query\n",
    "from sklearn.metrics.pairwise import cosine_similarity\n",
    "def find_most_similar_question(query, question_embeddings, questions):\n",
    "    query_embedding = model.encode([query])\n",
    "    similarities = cosine_similarity(query_embedding, question_embeddings)\n",
    "    most_similar_idx = np.argmax(similarities)\n",
    "    return questions[most_similar_idx], similarities[0][most_similar_idx]"
   ]
  },
  {
   "cell_type": "code",
   "execution_count": 24,
   "id": "5f742826",
   "metadata": {},
   "outputs": [
    {
     "name": "stdout",
     "output_type": "stream",
     "text": [
      "Most similar question: does alcohol kill covid (similarity: 0.7239402532577515)\n"
     ]
    }
   ],
   "source": [
    "\n",
    "# Example usage\n",
    "query = \"can i drink alcohol after covid vaccine?\"\n",
    "most_similar_question, similarity = find_most_similar_question(query, question_embeddings, questions)\n",
    "\n",
    "print(f\"Most similar question: {most_similar_question} (similarity: {similarity})\")"
   ]
  },
  {
   "cell_type": "code",
   "execution_count": null,
   "id": "2a83c3d5",
   "metadata": {},
   "outputs": [
    {
     "name": "stdout",
     "output_type": "stream",
     "text": [
      "Question: can i drink alcohol after covid vaccine?\n",
      "Most similar question: does alcohol kill covid\n",
      "Similarity score: 0.7239\n",
      "Answer: if hand sanitizers are not available, hand washing with soap and water is the recommended, and even better, alternative. , handwashing is one of the best ways to protect yourself and your family from getting sick. if soap and water are not readily available, use an alcohol based hand sanitizer with at least 60% alcohol., the efficacy of these disinfection methods against the virus that causes covid is not known., if surfaces are dirty, clean them using detergent or soap and water prior to disinfection. to disinfect, most common epa registered household disinfectants will work. see \n"
     ]
    }
   ],
   "source": [
    "# Simply get the answer from the most similar question - no need for additional pipeline!\n",
    "answer = chats_df[chats_df['context'] == most_similar_question]['response'].values[0]\n",
    "if similarity < 0.85:\n",
    "    answer = \"Sorry, I don't have an exact answer for that.\"\n",
    "\n",
    "print(f\"Question: {query}\")\n",
    "print(f\"Most similar question: {most_similar_question}\")\n",
    "print(f\"Similarity score: {similarity:.4f}\")\n",
    "print(f\"Answer: {answer}\")"
   ]
  }
 ],
 "metadata": {
  "kernelspec": {
   "display_name": "Python 3",
   "language": "python",
   "name": "python3"
  },
  "language_info": {
   "codemirror_mode": {
    "name": "ipython",
    "version": 3
   },
   "file_extension": ".py",
   "mimetype": "text/x-python",
   "name": "python",
   "nbconvert_exporter": "python",
   "pygments_lexer": "ipython3",
   "version": "3.11.0"
  }
 },
 "nbformat": 4,
 "nbformat_minor": 5
}
