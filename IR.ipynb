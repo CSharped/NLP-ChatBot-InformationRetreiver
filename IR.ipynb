{
 "cells": [
  {
   "cell_type": "code",
   "execution_count": 174,
   "id": "f1d23ce2",
   "metadata": {},
   "outputs": [],
   "source": [
    "# install dependencies first (if not done)\n",
    "# pip install pymupdf sentence-transformers faiss-cpu\n",
    "\n",
    "import fitz  # PyMuPDF (fast PDF reader)\n",
    "from sentence_transformers import SentenceTransformer\n",
    "import numpy as np\n",
    "import faiss\n",
    "\n",
    "\n",
    "# ------------------------------\n",
    "# Step 1. Load PDF and stream text\n",
    "# ------------------------------\n",
    "def process_pdf(path, chunk_size=500, overlap=50):\n",
    "    doc = fitz.open(path)\n",
    "    for page in doc:\n",
    "        text = page.get_text(\"text\")\n",
    "        if not text:\n",
    "            continue\n",
    "        words = text.split()\n",
    "        for i in range(0, len(words), chunk_size - overlap):\n",
    "            yield \" \".join(words[i:i+chunk_size])\n",
    "\n",
    "\n",
    "# ------------------------------\n",
    "# Step 2. Create chunks + embeddings\n",
    "# ------------------------------\n",
    "def build_embeddings(path, model_name=\"all-MiniLM-L6-v2\"):\n",
    "    model = SentenceTransformer(model_name)\n",
    "    chunks, embeddings = [], []\n",
    "\n",
    "    for chunk in process_pdf(path):\n",
    "        chunks.append(chunk)\n",
    "        emb = model.encode([chunk])\n",
    "        embeddings.append(emb[0])\n",
    "\n",
    "    embeddings = np.array(embeddings)\n",
    "    return chunks, embeddings, model\n",
    "\n",
    "\n",
    "# ------------------------------\n",
    "# Step 3. Build FAISS index\n",
    "# ------------------------------\n",
    "def build_faiss_index(embeddings):\n",
    "    d = embeddings.shape[1]  # embedding dimension\n",
    "    index = faiss.IndexFlatL2(d)\n",
    "    index.add(embeddings)\n",
    "    return index\n",
    "\n",
    "\n",
    "# ------------------------------\n",
    "# Step 4. Query the chatbot\n",
    "# ------------------------------\n",
    "def query_bot(query, model, chunks, index, k=3):\n",
    "    q_emb = model.encode([query])\n",
    "    D, I = index.search(q_emb, k)\n",
    "    results = [chunks[idx] for idx in I[0]]\n",
    "    return results\n",
    "\n",
    "\n",
    "# ------------------------------\n",
    "# Run on your PDF (example: covid19.pdf)\n",
    "# ------------------------------\n",
    "pdf_path = \"py.pdf\"  # <-- replace with your 18-page PDF\n",
    "\n",
    "# Build embeddings\n",
    "chunks, embeddings, model = build_embeddings(pdf_path)\n",
    "\n",
    "# Save to disk (optional, reuse later)\n",
    "np.save(\"py.npy\", embeddings, allow_pickle=False)\n",
    "\n",
    "# Build index\n",
    "index = build_faiss_index(embeddings)\n",
    "\n",
    "\n"
   ]
  },
  {
   "cell_type": "code",
   "execution_count": 170,
   "id": "1e12a239",
   "metadata": {},
   "outputs": [],
   "source": [
    "def get_all_answers(questions):\n",
    "    all_answers = []\n",
    "    for question in questions:\n",
    "        answers = query_bot(question, model, chunks, index, k=3)\n",
    "        all_answers.append(answers)\n",
    "    return all_answers"
   ]
  },
  {
   "cell_type": "code",
   "execution_count": 184,
   "id": "b947ba9d",
   "metadata": {},
   "outputs": [],
   "source": [
    "question =[\"what are the different data types in python?\"]\n",
    "\n",
    "text_to_summarize = get_all_answers(question)"
   ]
  },
  {
   "cell_type": "code",
   "execution_count": 185,
   "id": "0a62354b",
   "metadata": {},
   "outputs": [
    {
     "data": {
      "text/plain": [
       "[['Python Tutorial, Release 3.7.0 42 Chapter 5. Data Structures',\n",
       "  'Python Tutorial, Release 3.7.0 Python is an easy to learn, powerful programming language. It has eﬃcient high-level data structures and a simple but eﬀective approach to object-oriented programming. Python’s elegant syntax and dynamic typing, together with its interpreted nature, make it an ideal language for scripting and rapid application development in many areas on most platforms. The Python interpreter and the extensive standard library are freely available in source or binary form for all major platforms from the Python Web site, https://www.python.org/, and may be freely distributed. The same site also contains distributions of and pointers to many free third party Python modules, programs and tools, and additional documentation. The Python interpreter is easily extended with new functions and data types implemented in C or C++ (or other languages callable from C). Python is also suitable as an extension language for customizable applications. This tutorial introduces the reader informally to the basic concepts and features of the Python language and system. It helps to have a Python interpreter handy for hands-on experience, but all examples are self-contained, so the tutorial can be read oﬀ-line as well. For a description of standard objects and modules, see library-index. reference-index gives a more formal deﬁnition of the language. To write extensions in C or C++, read extending-index and c-api-index. There are also several books covering Python in depth. This tutorial does not attempt to be comprehensive and cover every single feature, or even every commonly used feature. Instead, it introduces many of Python’s most noteworthy features, and will give you a good idea of the language’s ﬂavor and style. After reading it, you will be able to read and write Python modules and programs, and you will be ready to learn more about the various Python library modules described in library-index. The Glossary is also worth going through. CONTENTS 1',\n",
       "  \"Python Tutorial, Release 3.7.0 5.5 Dictionaries Another useful data type built into Python is the dictionary (see typesmapping). Dictionaries are sometimes found in other languages as “associative memories” or “associative arrays”. Unlike sequences, which are indexed by a range of numbers, dictionaries are indexed by keys, which can be any immutable type; strings and numbers can always be keys. Tuples can be used as keys if they contain only strings, numbers, or tuples; if a tuple contains any mutable object either directly or indirectly, it cannot be used as a key. You can’t use lists as keys, since lists can be modiﬁed in place using index assignments, slice assignments, or methods like append() and extend(). It is best to think of a dictionary as a set of key: value pairs, with the requirement that the keys are unique (within one dictionary). A pair of braces creates an empty dictionary: {}. Placing a comma-separated list of key:value pairs within the braces adds initial key:value pairs to the dictionary; this is also the way dictionaries are written on output. The main operations on a dictionary are storing a value with some key and extracting the value given the key. It is also possible to delete a key:value pair with del. If you store using a key that is already in use, the old value associated with that key is forgotten. It is an error to extract a value using a non-existent key. Performing list(d) on a dictionary returns a list of all the keys used in the dictionary, in insertion order (if you want it sorted, just use sorted(d) instead). To check whether a single key is in the dictionary, use the in keyword. Here is a small example using a dictionary: >>> tel = {'jack': 4098, 'sape': 4139} >>> tel['guido'] = 4127 >>> tel {'jack': 4098, 'sape': 4139, 'guido': 4127} >>> tel['jack'] 4098 >>> del tel['sape'] >>> tel['irv'] = 4127 >>> tel {'jack': 4098, 'guido': 4127, 'irv': 4127} >>> list(tel) ['jack', 'guido', 'irv'] >>> sorted(tel) ['guido', 'irv', 'jack'] >>> 'guido' in tel True >>> 'jack' not in tel False The dict() constructor builds dictionaries directly from sequences of key-value pairs: >>> dict([('sape', 4139), ('guido', 4127), ('jack', 4098)]) {'sape': 4139, 'guido': 4127, 'jack': 4098} In addition, dict comprehensions can be used to create dictionaries from arbitrary key and value expressions: >>> {x: x**2 for x in (2, 4, 6)} {2: 4, 4: 16, 6: 36} When the keys are simple strings, it is sometimes easier to specify pairs using keyword arguments: >>> dict(sape=4139, guido=4127, jack=4098) {'sape': 4139, 'guido': 4127, 'jack': 4098} 38 Chapter 5. Data Structures\"]]"
      ]
     },
     "execution_count": 185,
     "metadata": {},
     "output_type": "execute_result"
    }
   ],
   "source": [
    "text_to_summarize "
   ]
  },
  {
   "cell_type": "code",
   "execution_count": null,
   "id": "bc3a814e",
   "metadata": {},
   "outputs": [
    {
     "name": "stdout",
     "output_type": "stream",
     "text": [
      "\n",
      "Summary:\n",
      "\n",
      "* **Numbers:**  Integers, floating-point numbers, complex numbers.\n",
      "* **Strings:** Text enclosed in single (' ') or double (\" \") quotes.\n",
      "* **Lists:** Ordered, mutable (changeable) sequences of items.\n",
      "* **Tuples:** Ordered, immutable (unchangeable) sequences of items.\n",
      "* **Dictionaries:** Unordered collections of key-value pairs.\n",
      "\n",
      "\n",
      "If the question were multiple choice, the best option would be the one that includes all of the above.\n",
      "\n"
     ]
    }
   ],
   "source": [
    "# --- Gemini Summarization Utility ---\n",
    "\"\"\"Summarize arbitrary text using Google Gemini API.\n",
    "Prerequisites:\n",
    "1. pip install google-generativeai (if not installed)\n",
    "2. Set environment variable GEMINI_API_KEY with your key.\n",
    "\n",
    "Usage:\n",
    "- Provide text in `text_to_summarize` or replace with your own string.\n",
    "- Adjust model name or parameters as needed.\n",
    "\"\"\"\n",
    "\n",
    "import os, textwrap, json\n",
    "\n",
    "try:\n",
    "    import google.generativeai as genai\n",
    "except ImportError:\n",
    "    raise ImportError(\"google-generativeai not installed. Install with: pip install google-generativeai\")\n",
    "\n",
    "API_KEY = 'I am not telling u'  # <-- replace with your Gemini API key or set env variable GEMINI_API_KEY\n",
    "if not API_KEY:\n",
    "    raise EnvironmentError('Set GEMINI_API_KEY environment variable before running this cell.')\n",
    "\n",
    "genai.configure(api_key=API_KEY)\n",
    "MODEL_NAME = 'gemini-1.5-flash'\n",
    "\n",
    "# Use the answers variable (already available) for summarization\n",
    "\n",
    "\n",
    "prompt = f\"\"\"\n",
    "Summarize the following content as bullet and focus on the original question asked {question[0]} if {question[0]} is an mcq provide the right option to pick if question is not mcq just provide one word answer.\n",
    "Text:\n",
    "{text_to_summarize}\n",
    "\"\"\"\n",
    "\n",
    "gemini_model = genai.GenerativeModel(MODEL_NAME)\n",
    "response = gemini_model.generate_content(prompt)\n",
    "\n",
    "summary = response.text \n",
    "print('\\nSummary:\\n')\n",
    "print(summary)\n"
   ]
  }
 ],
 "metadata": {
  "kernelspec": {
   "display_name": "Python 3",
   "language": "python",
   "name": "python3"
  },
  "language_info": {
   "codemirror_mode": {
    "name": "ipython",
    "version": 3
   },
   "file_extension": ".py",
   "mimetype": "text/x-python",
   "name": "python",
   "nbconvert_exporter": "python",
   "pygments_lexer": "ipython3",
   "version": "3.11.0"
  }
 },
 "nbformat": 4,
 "nbformat_minor": 5
}
